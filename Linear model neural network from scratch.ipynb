{
 "cells": [
  {
   "cell_type": "code",
   "execution_count": 1,
   "metadata": {},
   "outputs": [],
   "source": [
    "import pandas as pd\n",
    "import numpy as np\n",
    "import matplotlib.pyplot as plt\n",
    "import seaborn as sns\n",
    "sns.set()\n"
   ]
  },
  {
   "cell_type": "code",
   "execution_count": 3,
   "metadata": {},
   "outputs": [],
   "source": [
    "x1 = np.random.uniform(-10,10, size=(1000,1))\n",
    "x2 = np.random.uniform(-10,10,size=(1000,1))\n",
    "noise = np.random.uniform(-1,1,(1000,1))\n",
    "t = 3*x1 + 7*x2 +5+ noise "
   ]
  },
  {
   "cell_type": "code",
   "execution_count": 4,
   "metadata": {},
   "outputs": [
    {
     "name": "stdout",
     "output_type": "stream",
     "text": [
      "(1000, 1)\n"
     ]
    }
   ],
   "source": [
    "print(t.shape)"
   ]
  },
  {
   "cell_type": "code",
   "execution_count": 5,
   "metadata": {},
   "outputs": [
    {
     "name": "stdout",
     "output_type": "stream",
     "text": [
      "(1000, 2)\n"
     ]
    }
   ],
   "source": [
    "x = np.column_stack((x1,x2))\n",
    "print(x.shape)"
   ]
  },
  {
   "cell_type": "code",
   "execution_count": 7,
   "metadata": {},
   "outputs": [
    {
     "name": "stdout",
     "output_type": "stream",
     "text": [
      "[[0.08032829]\n",
      " [0.04957448]]\n",
      "[0.01331963]\n",
      "----------\n",
      "[[2.9883034 ]\n",
      " [6.99685267]]\n",
      "[4.32339588]\n"
     ]
    },
    {
     "data": {
      "text/plain": [
       "Text(0, 0.5, 'output')"
      ]
     },
     "execution_count": 7,
     "metadata": {},
     "output_type": "execute_result"
    },
    {
     "data": {
      "image/png": "[encoded data removed]",
      "text/plain": [
       "<Figure size 432x288 with 1 Axes>"
      ]
     },
     "metadata": {
      "needs_background": "light"
     },
     "output_type": "display_data"
    }
   ],
   "source": [
    "weights = np.random.uniform(-0.1,0.1,size=(2,1))\n",
    "print(weights)\n",
    "bias = np.random.uniform(-0.1,0.1,1)\n",
    "print(bias)\n",
    "eta = 0.02\n",
    "\n",
    "for e in range(100):\n",
    "    y = np.dot(x,weights)+bias\n",
    "    deltas = (y - t)/1000\n",
    "    loss = np.sum(deltas**2)/2/1000\n",
    "#     print(\"loss: {:.2}\".format(loss))\n",
    "    weights = weights-eta*np.dot(x.T,deltas)\n",
    "    bias = bias-eta*np.sum(deltas)\n",
    "    \n",
    "print(\"-\"*10)\n",
    "print(weights)\n",
    "print(bias)\n",
    "# print(y)\n",
    "\n",
    "plt.plot(t,y)\n",
    "plt.xlabel('target')\n",
    "plt.ylabel('output')"
   ]
  },
  {
   "cell_type": "code",
   "execution_count": 9,
   "metadata": {},
   "outputs": [],
   "source": [
    "'''\n",
    "x - feature vector input\n",
    "w - weights\n",
    "b - biases\n",
    "y - output\n",
    "t - targets\n",
    "\n",
    "Liear model: x*w+b=y\n",
    "Loss function: 1/2*sum((y-t)^2)\n",
    "Loss function gradient: x*(y-t)\n",
    "Minimization rule: w1 = w0 + eta*(gradient of the loss function w.r.t w)\n",
    "'''\n",
    "\n",
    "def loss_function(y,t):\n",
    "    return np.sum((y-t)**2)/2\n",
    "                  \n",
    "                  \n",
    "def loss_function_gradient(x,y,t):\n",
    "    return x*(y-t)\n",
    "                  \n",
    "                  \n",
    "class Neuron():\n",
    "    def __init__(self, initial_weights, initial_biases):\n",
    "        self.weights = initial_weights\n",
    "        self.biases = initial_biases\n",
    "        \n",
    "    def optimize_weights_biases(self,epochs, eta, x, t):\n",
    "\n",
    "        for e in range(epochs):\n",
    "            y = np.dot(x,self.weights)+self.biases\n",
    "            delta = (y - t)/x.shape[0]\n",
    "            self.weights = self.weights-eta*np.dot(x.T,delta)\n",
    "            self.biases = self.biases-eta*np.sum(delta)\n",
    "        \n",
    "        return(self.weights,self.biases)\n",
    "        \n",
    "        "
   ]
  },
  {
   "cell_type": "code",
   "execution_count": 10,
   "metadata": {},
   "outputs": [
    {
     "name": "stdout",
     "output_type": "stream",
     "text": [
      "[[2.99211551]\n",
      " [6.99666787]] [4.89889648]\n"
     ]
    }
   ],
   "source": [
    "the_neuron = Neuron(weights, bias)\n",
    "neuron_weights, neuron_bias = the_neuron.optimize_weights_biases(100, eta, x, t)\n",
    "print(neuron_weights, neuron_bias)"
   ]
  }
 ],
 "metadata": {
  "kernelspec": {
   "display_name": "Python 3",
   "language": "python",
   "name": "python3"
  },
  "language_info": {
   "codemirror_mode": {
    "name": "ipython",
    "version": 3
   },
   "file_extension": ".py",
   "mimetype": "text/x-python",
   "name": "python",
   "nbconvert_exporter": "python",
   "pygments_lexer": "ipython3",
   "version": "3.7.1"
  }
 },
 "nbformat": 4,
 "nbformat_minor": 2
}
